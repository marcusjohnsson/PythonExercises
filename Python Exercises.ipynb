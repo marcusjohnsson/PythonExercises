{
 "cells": [
  {
   "cell_type": "code",
   "execution_count": 1,
   "metadata": {},
   "outputs": [],
   "source": [
    "# Python Excercises\n",
    "# https://arthead.eu/exercises/python_fundamentals/"
   ]
  },
  {
   "cell_type": "code",
   "execution_count": 15,
   "metadata": {},
   "outputs": [
    {
     "name": "stdout",
     "output_type": "stream",
     "text": [
      "state name: Marcus\n",
      "Hello Marcus!\n"
     ]
    }
   ],
   "source": [
    "# 1. GET USERS NAME\n",
    "\n",
    "name = input(\"state name: \")\n",
    "print(f\"Hello {name}!\")"
   ]
  },
  {
   "cell_type": "code",
   "execution_count": 17,
   "metadata": {},
   "outputs": [
    {
     "name": "stdout",
     "output_type": "stream",
     "text": [
      "State one whole number: 2\n",
      "State another whole number: 2\n",
      "The sum of 2 and 2 is 4\n"
     ]
    }
   ],
   "source": [
    "# 2. ARITHMETIC 1\n",
    "numb1 = input(\"State one whole number: \")\n",
    "numb2 = input(\"State another whole number: \")\n",
    "\n",
    "print(f\"The sum of {numb2} and {numb1} is {int(numb1)+int(numb2)}\")"
   ]
  },
  {
   "cell_type": "code",
   "execution_count": null,
   "metadata": {},
   "outputs": [],
   "source": [
    "# 3. ARITHMETIC 2\n",
    "\n",
    "boys = 3\n",
    "girls = 2\n",
    "group = boys + girls\n",
    "number_of_groups = 5\n",
    "persons = group * number_of_groups\n",
    "print(f\"Number of people: {persons}\")"
   ]
  },
  {
   "cell_type": "code",
   "execution_count": 18,
   "metadata": {},
   "outputs": [
    {
     "name": "stdout",
     "output_type": "stream",
     "text": [
      "State a character: 2\n",
      "Ni! 2 is possibly a consonant\n"
     ]
    }
   ],
   "source": [
    "# 4. CHECKING A CHARACTER\n",
    "\n",
    "vowels = [\"a\", \"e\", \"i\", \"o\", \"u\" ]\n",
    "char = input(\"State a character: \")\n",
    "if char.lower() in vowels:\n",
    "    print(f\"Yes! {char} is a vowel\")\n",
    "else:    \n",
    "    print(f\"Ni! {char} is possibly a consonant\")\n"
   ]
  },
  {
   "cell_type": "code",
   "execution_count": 25,
   "metadata": {},
   "outputs": [
    {
     "name": "stdout",
     "output_type": "stream",
     "text": [
      "State your age : 12\n",
      "You are not a teen...\n"
     ]
    }
   ],
   "source": [
    "# 5. CHECKING AN AGE\n",
    "age = input(\"State your age : \")\n",
    "age = int(age)\n",
    "if age > 19 or age < 13:\n",
    "    print(\"You are not a teen...\")\n",
    "else:\n",
    "    print(\"You are a teen!\")"
   ]
  },
  {
   "cell_type": "code",
   "execution_count": 30,
   "metadata": {},
   "outputs": [
    {
     "name": "stdout",
     "output_type": "stream",
     "text": [
      "Please enter the value of an US dollar note: 5\n",
      "Abraham Lincoln is on the 5$ bill\n"
     ]
    }
   ],
   "source": [
    "# 6. DOLLAR BILLS\n",
    "\n",
    "bills = {\n",
    "    \"1\"  : \"George Washinton\",\n",
    "    \"2\"  : \"Thomas Jefferson\",\n",
    "    \"5\"  : \"Abraham Lincoln\",\n",
    "    \"10\" : \"Alexander Hamilton\",\n",
    "    \"20\" : \"Andrew Jackson\",\n",
    "    \"50\" : \"Ulysses S. Grant\",\n",
    "    \"100\": \"Benjamin Franklin\"\n",
    "    }\n",
    "     \n",
    "val = input(\"Please enter the value of an US dollar note: \")\n",
    "if val in bills:\n",
    "    print(f\"{bills[val]} is on the {val}$ bill\")\n",
    "else:\n",
    "    print(\"No such bills exist\")\n",
    " "
   ]
  },
  {
   "cell_type": "code",
   "execution_count": 36,
   "metadata": {},
   "outputs": [
    {
     "name": "stdout",
     "output_type": "stream",
     "text": [
      "1 31 76\n"
     ]
    }
   ],
   "source": [
    "# 7. ORDERING NUMBERS\n",
    "\n",
    "X = 31\n",
    "Y = 76\n",
    "Z = 1\n",
    "\n",
    "lst = [X,Y,Z]\n",
    "res = sorted(lst)\n",
    "x, y, z = res[0], res[1], res[2]\n",
    "\n",
    "print(x, y, z)"
   ]
  },
  {
   "cell_type": "code",
   "execution_count": null,
   "metadata": {},
   "outputs": [],
   "source": [
    "# 8. ROBOT CONTROL\n",
    "\n",
    " "
   ]
  }
 ],
 "metadata": {
  "kernelspec": {
   "display_name": "Python 3",
   "language": "python",
   "name": "python3"
  },
  "language_info": {
   "codemirror_mode": {
    "name": "ipython",
    "version": 3
   },
   "file_extension": ".py",
   "mimetype": "text/x-python",
   "name": "python",
   "nbconvert_exporter": "python",
   "pygments_lexer": "ipython3",
   "version": "3.7.6"
  }
 },
 "nbformat": 4,
 "nbformat_minor": 4
}
